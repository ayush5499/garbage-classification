{
 "cells": [
  {
   "cell_type": "code",
   "execution_count": 1,
   "metadata": {},
   "outputs": [],
   "source": [
    "import numpy as np\n",
    "import matplotlib.pyplot as plt\n",
    "from sklearn.decomposition import PCA"
   ]
  },
  {
   "cell_type": "code",
   "execution_count": 2,
   "metadata": {},
   "outputs": [],
   "source": [
    "x_train = np.loadtxt('x_train.gz')\n",
    "x_test = np.loadtxt('x_test.gz')\n",
    "y_train = np.loadtxt('y_train.gz')\n",
    "y_test = np.loadtxt('y_test.gz')"
   ]
  },
  {
   "cell_type": "code",
   "execution_count": 3,
   "metadata": {},
   "outputs": [],
   "source": [
    "pca = PCA(n_components=350)\n",
    "\n",
    "pca.fit(x_train)\n",
    "x_train = pca.transform(x_train)\n",
    "x_test = pca.transform(x_test)"
   ]
  },
  {
   "cell_type": "code",
   "execution_count": 4,
   "metadata": {},
   "outputs": [],
   "source": [
    "# Class for KNN Model\n",
    "class KNN:\n",
    "    # Initialization Function for KNN Model\n",
    "    def __init__ (self, K=1):\n",
    "        self.K = K\n",
    "    # Fit function for KNN model\n",
    "    def fit(self,x_train,y_train):\n",
    "        self.x_train = x_train\n",
    "        self.y_train = y_train\n",
    "    # Predict Function using Semi Vetorization\n",
    "    def predict_semi(self, x_test):\n",
    "        # Get test and training data in required form\n",
    "        test = x_test.T\n",
    "        train = self.x_train.T\n",
    "\n",
    "        # initiate the distance matrix\n",
    "        dists = np.empty((test.shape[1],train.shape[1]), dtype=np.float32)\n",
    "\n",
    "        # Use semi vectorization to compute distance for distance matrix\n",
    "        for j in range(train.shape[1]):\n",
    "          diffs = test - train[:, j:(j+1)]\n",
    "          diffs_sq = diffs*diffs\n",
    "          dists_sq = diffs_sq.sum(axis=0)  # sum over the size-N axis\n",
    "          dists[:,j] = np.sqrt(dists_sq)\n",
    "\n",
    "        # initialize and calculate predictions for the KNN model\n",
    "        predictions = []\n",
    "        self.dists = dists\n",
    "        for i in range(dists.shape[0]):\n",
    "            idx = np.argpartition(dists[i],self.K)\n",
    "            clas, freq = np.unique(self.y_train[idx[:self.K]], return_counts=True)\n",
    "            predictions.append(clas[np.argmax(freq)])\n",
    "        \n",
    "        # return Predicted classes coresponding to each test vector\n",
    "        self.predictions = predictions\n",
    "        return predictions\n",
    "    # Predict Function using Full Vectorization\n",
    "    def predict_full(self, x_test):\n",
    "        # get data in required fromat\n",
    "        test = x_test.T[:,:,None]\n",
    "        train = self.x_train.T[:,None,:]\n",
    "\n",
    "        # Calulate the Distance matrix\n",
    "        diffs = test - train\n",
    "        diffs_sq = diffs**2\n",
    "        dists_sq = diffs_sq.sum(axis=0) # sum over the size-N axis\n",
    "        dists = np.sqrt(dists_sq)\n",
    "\n",
    "        # initialize and calculate predictions for the KNN model\n",
    "        predictions = []\n",
    "        for i in range(dists.shape[0]):\n",
    "            idx = np.argpartition(dists[i],self.K)\n",
    "            clas, freq = np.unique(self.y_train[idx[:self.K]], return_counts=True)\n",
    "            predictions.append(clas[np.argmax(freq)])\n",
    "        self.predictions = predictions\n",
    "\n",
    "        # return Predicted classes coresponding to each test vector\n",
    "        return predictions\n",
    "    # Predict function using element wise calculation\n",
    "    def predict(self, x_test):\n",
    "        # Initialize the predictions list\n",
    "        predictions = []\n",
    "\n",
    "        # taking one image at a time, calculate distance and corresponding prediction\n",
    "        for image in x_test:\n",
    "            distances = [np.sqrt(np.sum((image-self.x_train[i])**2)) for i in range(self.x_train.shape[0])]\n",
    "            idx = np.argpartition(distances,self.K)\n",
    "            clas, freq = np.unique(self.y_train[idx[:self.K]], return_counts=True)\n",
    "            predictions.append(clas[np.argmax(freq)])\n",
    "        self.predictions = predictions\n",
    "\n",
    "        # return Predicted classes coresponding to each test vector\n",
    "        return predictions\n",
    "    # Predict function using element wise calculation for one image (for test purposes)\n",
    "    def predictone(self, X):\n",
    "        # Calculate the distance for KNN model\n",
    "        distances = [np.sqrt(np.sum((X-self.x_train[i])**2)) for i in range(self.x_train.shape[0])]\n",
    "        \n",
    "        # Predict the class of the image\n",
    "        idx = np.argpartition(distances,self.K)\n",
    "        clas, freq = np.unique(self.y_train[idx[:self.K]], return_counts=True)\n",
    "\n",
    "        # return Predicted class coresponding to test vector\n",
    "        return clas[np.argmax(freq)]\n",
    "    # Fuction to find the incorrectly categorized images (a replacement of confusion matrix for internal testing)\n",
    "    def error_vals(self,y_test):\n",
    "        # make a list of incorrectly identified test points and return them\n",
    "        errors = [(self.predictions[i],y_test[i]) for i in range(len(y_test)) if self.predictions[i] != y_test[i]]\n",
    "        return ([('prediction','y_val')] + errors)\n",
    "    # Function for plotting Decision Boundary in 2 Dimensions\n",
    "    def plot(self):\n",
    "        # Calculate the min and max value for each dimension\n",
    "        x_min, x_max = self.x_train[:, 0].min() - 100, self.x_train[:, 0].max() + 100\n",
    "        y_min, y_max = self.x_train[:, 1].min() - 100, self.x_train[:, 1].max() + 100\n",
    "\n",
    "        # Create a meshgrid using min and max values \n",
    "        # with intervals optimized for performance and fineness of boundary\n",
    "        xx, yy = np.meshgrid(np.arange(x_min, x_max, 25),np.arange(y_min, y_max, 25))\n",
    "\n",
    "        # Predictions to obtain the classification results\n",
    "        Z = np.array(self.predict_semi(np.c_[xx.ravel(), yy.ravel()])).reshape(xx.shape)\n",
    "\n",
    "        # colour parameter labeling 0 as red and 1 as blue\n",
    "        col = ['b' if self.y_train[i] == 1 else 'r' for i in range(len(self.y_train))]\n",
    "\n",
    "        # Plotting of the boundary\n",
    "        plt.contourf(xx, yy, Z,colors =col, alpha=0.3)\n",
    "        plt.scatter(self.x_train[:, 0], self.x_train[:, 1], c=col, alpha=0.6, s=1)\n",
    "        plt.xlabel(\"Feature-1\")\n",
    "        plt.ylabel(\"Feature-2\")\n",
    "\n",
    "        # return the plt function to ease making customizations before plotting\n",
    "        return plt"
   ]
  },
  {
   "cell_type": "code",
   "execution_count": 13,
   "metadata": {},
   "outputs": [],
   "source": [
    "# Function to calculate the Prediction error using predictions and expected classification\n",
    "def prediction_accu(prediction, y_test):\n",
    "    if len(prediction) != len(y_test):\n",
    "        print(\"you are trying to get prediction of lists of unequal size\")\n",
    "        return 0\n",
    "    errors = sum([0 if prediction[i] != y_test[i] else 1 for i in range(len(y_test))])\n",
    "    return (errors/len(y_test))*100"
   ]
  },
  {
   "cell_type": "code",
   "execution_count": 6,
   "metadata": {},
   "outputs": [],
   "source": [
    "# Function to calculate the confusion matrix using expected and predicted results\n",
    "def confusion_matrix(y_pred,y_test):\n",
    "    cm = np.empty([np.unique(y_test).shape[0],np.unique(y_test).shape[0]], dtype=int)\n",
    "    for cat in np.unique(y_test):\n",
    "        idx = (y_test==np.unique(y_test)[cat])\n",
    "        pred_event = np.array(y_pred)[idx]\n",
    "\n",
    "        cm[cat,1] = sum(pred_event)\n",
    "        cm[cat,0] = pred_event.shape[0] - cm[cat,1]\n",
    "    return cm"
   ]
  },
  {
   "cell_type": "code",
   "execution_count": 14,
   "metadata": {},
   "outputs": [
    {
     "data": {
      "image/png": "[encoded data removed]",
      "text/plain": [
       "<Figure size 640x480 with 1 Axes>"
      ]
     },
     "metadata": {},
     "output_type": "display_data"
    }
   ],
   "source": [
    "accus = []\n",
    "k_vals = list(range(1,12))\n",
    "\n",
    "for k in k_vals:\n",
    "  model = KNN(K = k)\n",
    "  model.fit(x_train, y_train)\n",
    "  pred = model.predict_semi(x_test)\n",
    "  accu = prediction_accu(pred,y_test)\n",
    "  accus.append(accu)\n",
    "\n",
    "plt.bar(k_vals, accus)\n",
    "plt.xlabel('Value of K')\n",
    "plt.ylabel('kNN Accuracy')\n",
    "plt.xticks(range(1,12))\n",
    "plt.show()"
   ]
  },
  {
   "cell_type": "code",
   "execution_count": 15,
   "metadata": {},
   "outputs": [
    {
     "data": {
      "text/plain": [
       "[60.61643835616438,\n",
       " 60.273972602739725,\n",
       " 56.16438356164384,\n",
       " 56.5068493150685,\n",
       " 57.1917808219178,\n",
       " 55.821917808219176,\n",
       " 56.5068493150685,\n",
       " 56.5068493150685,\n",
       " 56.849315068493155,\n",
       " 56.849315068493155,\n",
       " 56.5068493150685]"
      ]
     },
     "execution_count": 15,
     "metadata": {},
     "output_type": "execute_result"
    }
   ],
   "source": [
    "accus"
   ]
  },
  {
   "cell_type": "code",
   "execution_count": 16,
   "metadata": {},
   "outputs": [],
   "source": [
    "model = KNN(K = 1)\n",
    "model.fit(x_train, y_train)\n",
    "pred = model.predict_semi(x_test)\n",
    "accu = prediction_accu(pred,y_test)"
   ]
  },
  {
   "cell_type": "code",
   "execution_count": 17,
   "metadata": {},
   "outputs": [
    {
     "data": {
      "text/plain": [
       "60.61643835616438"
      ]
     },
     "execution_count": 17,
     "metadata": {},
     "output_type": "execute_result"
    }
   ],
   "source": [
    "accu"
   ]
  }
 ],
 "metadata": {
  "kernelspec": {
   "display_name": "Python 3.9.12 ('base')",
   "language": "python",
   "name": "python3"
  },
  "language_info": {
   "codemirror_mode": {
    "name": "ipython",
    "version": 3
   },
   "file_extension": ".py",
   "mimetype": "text/x-python",
   "name": "python",
   "nbconvert_exporter": "python",
   "pygments_lexer": "ipython3",
   "version": "3.9.12"
  },
  "orig_nbformat": 4,
  "vscode": {
   "interpreter": {
    "hash": "993f410c9306d6ef42b306fd54ae6229af7745664c20756624d393163e88c3fb"
   }
  }
 },
 "nbformat": 4,
 "nbformat_minor": 2
}
