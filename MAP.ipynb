{
 "cells": [
  {
   "cell_type": "code",
   "execution_count": 1,
   "metadata": {},
   "outputs": [],
   "source": [
    "import numpy as np\n",
    "import matplotlib.pyplot as plt\n",
    "from sklearn.decomposition import PCA"
   ]
  },
  {
   "cell_type": "code",
   "execution_count": 2,
   "metadata": {},
   "outputs": [],
   "source": [
    "x_train = np.loadtxt('x_train.gz')\n",
    "x_test = np.loadtxt('x_test.gz')\n",
    "y_train = np.loadtxt('y_train.gz')\n",
    "y_test = np.loadtxt('y_test.gz')"
   ]
  },
  {
   "cell_type": "code",
   "execution_count": 3,
   "metadata": {},
   "outputs": [],
   "source": [
    "pca = PCA(n_components=350)\n",
    "\n",
    "pca.fit(x_train)\n",
    "x_train = pca.transform(x_train)\n",
    "x_test = pca.transform(x_test)"
   ]
  },
  {
   "cell_type": "code",
   "execution_count": 4,
   "metadata": {},
   "outputs": [],
   "source": [
    "# Class for MAP model\n",
    "class MAP:  \n",
    "    # Fit Function for the MAP Model\n",
    "    def fit(self,x_train,y_train):\n",
    "        # initialize lists to store category means, Covarience matrix and Inverse Covarience matrix \n",
    "        cat_specimen = []\n",
    "        cat_covarience = []\n",
    "        cat_inv_covarience = []\n",
    "        cat_prob = []\n",
    "\n",
    "        # Store the possible Category Results as model attributes \n",
    "        self.categories = np.unique(y_train)\n",
    "\n",
    "        # For each category calculate and store specimen, covarience and inverse covarience matrix\n",
    "        for cat in np.unique(y_train).tolist():\n",
    "            # Filter the samples for each category\n",
    "            idx = (y_train==cat)\n",
    "            cat_samples = x_train[idx]\n",
    "\n",
    "            # Calculate mean of the samples for features\n",
    "            cat_mean = cat_samples.mean(axis=0)\n",
    "\n",
    "            # Calculate the Cavarience Matrix for the category\n",
    "            cat_cov = np.cov(cat_samples.T)\n",
    "\n",
    "            # Calculate the inverse covarience matrix by matrix multiplication\n",
    "            cat_inv_cov = np.linalg.inv(cat_cov)\n",
    "\n",
    "            # Store the matrixs in corresponding lists\n",
    "            cat_covarience.append(cat_cov)\n",
    "            cat_inv_covarience.append(cat_inv_cov)\n",
    "            cat_specimen.append(cat_samples.mean(axis=0))\n",
    "            cat_prob.append(len(cat_samples)/len(x_train))\n",
    "\n",
    "        # Store means, covarience matrix and inverse covariance matrix as class attributes\n",
    "        self.cat_means = np.array(cat_specimen)\n",
    "        self.cat_cov = np.array(cat_covarience)\n",
    "        self.cat_inv_cov = np.array(cat_inv_covarience)\n",
    "        self.cat_prior_prob = np.array(cat_prob)\n",
    "    # Distance function to help predict category of test vector\n",
    "    def dist(self,cat,image):\n",
    "        const = np.linalg.det(self.cat_cov[cat]*((2*np.pi)**len(self.cat_means[cat])))**-0.5\n",
    "        variable = np.exp(np.matmul(np.matmul(np.transpose(np.subtract(image,self.cat_means[cat])),self.cat_inv_cov[cat]),np.subtract(image,self.cat_means[cat]))*-0.5)\n",
    "        return const*variable*(self.cat_prior_prob[cat])\n",
    "    # Predict Function for MAP model\n",
    "    def predict(self, x_test):\n",
    "        # Initialize a list for prediction results\n",
    "        predictions = []\n",
    "\n",
    "        # For each image calcute the distances from category specimens and make prediction using them\n",
    "        for image in x_test:\n",
    "            distances = [self.dist(i,image) for i in range(self.cat_means.shape[0])]\n",
    "            predictions.append(self.categories[np.argmax(distances)])\n",
    "        \n",
    "        # store the predictions as class attribute and return the predictions\n",
    "        self.predictions = predictions\n",
    "        return predictions\n",
    "    # Fuction to find the incorrectly categorized images (a replacement of confusion matrix for internal testing)\n",
    "    def error_vals(self,y_test):\n",
    "        # make a list of incorrectly identified test points and return them\n",
    "        errors = [(x_test[i],self.predictions[i],y_test[i]) for i in range(len(y_test)) if self.predictions[i] != y_test[i]]\n",
    "        return ([('prediction','y_val')] + errors)\n",
    "    # Function for plotting Decision Boundary in 2 Dimensions\n",
    "    def plot(self,x_train,y_train):\n",
    "        # Calculate the min and max value for each dimension\n",
    "        x_min, x_max = x_train[:, 0].min() - 100, x_train[:, 0].max() + 100\n",
    "        y_min, y_max = x_train[:, 1].min() - 100, x_train[:, 1].max() + 100\n",
    "\n",
    "        # Create a meshgrid using min and max values \n",
    "        # with intervals optimized for performance and fineness of boundary\n",
    "        xx, yy = np.meshgrid(np.arange(x_min, x_max, 10),np.arange(y_min, y_max, 10))\n",
    "\n",
    "        # Predictions to obtain the classification results\n",
    "        Z = np.array(self.predict(np.c_[xx.ravel(), yy.ravel()])).reshape(xx.shape)\n",
    "\n",
    "        # colour parameter labeling 0 as red and 1 as blue\n",
    "        col = ListedColormap(['red', 'blue'])\n",
    "\n",
    "        # Plotting of the boundary\n",
    "        plt.contourf(xx, yy, Z,cmap =col, alpha=0.3)\n",
    "        scatter = plt.scatter(x_train[:, 0], x_train[:, 1], c=y_train, cmap=col, alpha=0.6, s=1)\n",
    "        plt.legend(handles = scatter.legend_elements()[0], labels = ['Class 0', 'Class 1'])\n",
    "        plt.xlabel(\"Feature-1\")\n",
    "        plt.ylabel(\"Feature-2\")\n",
    "\n",
    "        # return the plt function to ease making customizations before plotting\n",
    "        return plt"
   ]
  },
  {
   "cell_type": "code",
   "execution_count": 5,
   "metadata": {},
   "outputs": [],
   "source": [
    "# Function to calculate the Prediction error using predictions and expected classification\n",
    "def prediction_accu(prediction, y_test):\n",
    "    if len(prediction) != len(y_test):\n",
    "        print(\"you are trying to get prediction of lists of unequal size\")\n",
    "        return 0\n",
    "    errors = sum([0 if prediction[i] != y_test[i] else 1 for i in range(len(y_test))])\n",
    "    return (errors/len(y_test))*100"
   ]
  },
  {
   "cell_type": "code",
   "execution_count": 6,
   "metadata": {},
   "outputs": [],
   "source": [
    "# Function to calculate the confusion matrix using expected and predicted results\n",
    "def confusion_matrix(y_pred,y_test):\n",
    "    cm = np.empty([np.unique(y_test).shape[0],np.unique(y_test).shape[0]], dtype=int)\n",
    "    for cat in np.unique(y_test):\n",
    "        idx = (y_test==np.unique(y_test)[cat])\n",
    "        pred_event = np.array(y_pred)[idx]\n",
    "\n",
    "        cm[cat,1] = sum(pred_event)\n",
    "        cm[cat,0] = pred_event.shape[0] - cm[cat,1]\n",
    "    return cm"
   ]
  },
  {
   "cell_type": "code",
   "execution_count": 7,
   "metadata": {},
   "outputs": [
    {
     "name": "stderr",
     "output_type": "stream",
     "text": [
      "/Users/ayush/miniconda3/lib/python3.9/site-packages/numpy/linalg/linalg.py:2154: RuntimeWarning: overflow encountered in det\n",
      "  r = _umath_linalg.det(a, signature=signature)\n"
     ]
    },
    {
     "data": {
      "text/plain": [
       "32.87671232876712"
      ]
     },
     "execution_count": 7,
     "metadata": {},
     "output_type": "execute_result"
    }
   ],
   "source": [
    "MAP_model = MAP()\n",
    "MAP_model.fit(x_train,y_train)\n",
    "pred_MAP = MAP_model.predict(x_test)\n",
    "MAP_accu = prediction_accu(pred_MAP,y_test)\n",
    "MAP_accu"
   ]
  }
 ],
 "metadata": {
  "kernelspec": {
   "display_name": "Python 3.9.12 ('base')",
   "language": "python",
   "name": "python3"
  },
  "language_info": {
   "codemirror_mode": {
    "name": "ipython",
    "version": 3
   },
   "file_extension": ".py",
   "mimetype": "text/x-python",
   "name": "python",
   "nbconvert_exporter": "python",
   "pygments_lexer": "ipython3",
   "version": "3.9.12"
  },
  "orig_nbformat": 4,
  "vscode": {
   "interpreter": {
    "hash": "993f410c9306d6ef42b306fd54ae6229af7745664c20756624d393163e88c3fb"
   }
  }
 },
 "nbformat": 4,
 "nbformat_minor": 2
}
