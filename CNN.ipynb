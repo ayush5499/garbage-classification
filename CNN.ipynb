{
 "cells": [
  {
   "cell_type": "code",
   "execution_count": 1,
   "metadata": {
    "id": "Oqcx6sW4C1cB"
   },
   "outputs": [],
   "source": [
    "import torch\n",
    "import torch.nn as nn\n",
    "import numpy as np\n",
    "import torchvision.datasets as datasets\n",
    "from torchvision import models\n",
    "from torch.utils.data import DataLoader\n",
    "import torchvision.transforms as T\n",
    "import matplotlib.pyplot as plt"
   ]
  },
  {
   "cell_type": "code",
   "execution_count": 2,
   "metadata": {
    "id": "h7YG26DiOf9l"
   },
   "outputs": [],
   "source": [
    "# Basic settings\n",
    "root = 'Images'\n",
    "num_classes = 3\n",
    "batch_size = 64\n",
    "num_epochs = 20\n",
    "device = torch.device(\"mps\")\n",
    "#print_interval = 1"
   ]
  },
  {
   "cell_type": "code",
   "execution_count": null,
   "metadata": {},
   "outputs": [],
   "source": []
  },
  {
   "cell_type": "markdown",
   "metadata": {},
   "source": [
    "## Part B"
   ]
  },
  {
   "cell_type": "code",
   "execution_count": 3,
   "metadata": {
    "id": "8Nz9XZKDNaDI"
   },
   "outputs": [],
   "source": [
    "transform = T.Compose([\n",
    "    T.Resize([224,224]),\n",
    "    T.ToTensor(),\n",
    "    T.Normalize([0.485, 0.456, 0.406], [0.229, 0.224, 0.225])\n",
    "])\n",
    "\n",
    "dataset = datasets.ImageFolder(root=root,transform=transform)\n",
    "\n",
    "train_dataset, test_dataset = torch.utils.data.random_split(dataset, [1168, 292])\n",
    "\n",
    "train_loader = DataLoader(train_dataset, batch_size=batch_size, shuffle=True)\n",
    "test_loader = DataLoader(test_dataset, batch_size=batch_size, shuffle=False)"
   ]
  },
  {
   "cell_type": "code",
   "execution_count": 4,
   "metadata": {
    "id": "NFA_0LUIRyH1"
   },
   "outputs": [],
   "source": [
    "model = models.resnet18(weights='DEFAULT')\n",
    "num_ftrs = model.fc.in_features\n",
    "# Here the size of each output sample is set to 2.\n",
    "# Alternatively, it can be generalized to nn.Linear(num_ftrs, len(class_names)).\n",
    "model.fc = nn.Linear(num_ftrs, num_classes)\n",
    "\n",
    "model = model.to(device)"
   ]
  },
  {
   "cell_type": "code",
   "execution_count": 5,
   "metadata": {
    "id": "YpnkSm73QupB"
   },
   "outputs": [],
   "source": [
    "optimizer = torch.optim.Adam(\n",
    "    model.parameters())"
   ]
  },
  {
   "cell_type": "code",
   "execution_count": 6,
   "metadata": {
    "id": "oP4h0q6IQumZ"
   },
   "outputs": [],
   "source": [
    "loss_func = nn.CrossEntropyLoss()"
   ]
  },
  {
   "cell_type": "code",
   "execution_count": 10,
   "metadata": {
    "colab": {
     "background_save": true,
     "base_uri": "https://localhost:8080/"
    },
    "id": "ebhiqp7AQujj",
    "outputId": "10115e87-a239-48fc-ce9a-6b7a1502ccd6"
   },
   "outputs": [
    {
     "name": "stdout",
     "output_type": "stream",
     "text": [
      "Epoch 1\n",
      "Epoch 2\n",
      "Epoch 3\n",
      "Epoch 4\n",
      "Epoch 5\n",
      "Epoch 6\n",
      "Epoch 7\n",
      "Epoch 8\n",
      "Epoch 9\n",
      "Epoch 10\n",
      "Epoch 11\n",
      "Epoch 12\n",
      "Epoch 13\n",
      "Epoch 14\n",
      "Epoch 15\n",
      "Epoch 16\n",
      "Epoch 17\n",
      "Epoch 18\n",
      "Epoch 19\n",
      "Epoch 20\n"
     ]
    }
   ],
   "source": [
    "step = 0  # track how many training iterations we've been through\n",
    "train_losses = []  # will be used to store loss values at each iteration\n",
    "test_losses = []\n",
    "train_accu = []\n",
    "test_accu = []\n",
    " # sets model to training mode\n",
    "for epoch in range(num_epochs):\n",
    "    model.train() \n",
    "    for data, targets in train_loader:\n",
    "        # Move data and targets to the same device as the model\n",
    "        data = data.to(device)\n",
    "        targets = targets.to(device)\n",
    "\n",
    "        # Zero-out gradients - torch accumulates gradients by dfault,\n",
    "        # so we have to manually reset them in each iteration\n",
    "        optimizer.zero_grad()\n",
    "\n",
    "        # Run forward pass - model returns the logits with shape (batch_size, num_classes)\n",
    "        logits = model(data)\n",
    "\n",
    "        # Compute loss\n",
    "        loss = loss_func(logits, targets)\n",
    "\n",
    "        # Perform backpropagation and update model parameters\n",
    "        loss.backward()\n",
    "        optimizer.step()\n",
    "\n",
    "        # (Optional) store and print loss\n",
    "    train_losses.append(loss.item())\n",
    "\n",
    "    model.eval()\n",
    "    conf_matrix = np.zeros((num_classes, num_classes), dtype=np.int32)\n",
    "    with torch.no_grad():\n",
    "        for data, targets in train_loader:\n",
    "            # Make sure data is on the same device as the model\n",
    "            data = data.to(device)\n",
    "            targets = targets.to(device)\n",
    "\n",
    "            # Run forward pass\n",
    "            logits = model(data)\n",
    "\n",
    "            # Get class predictions\n",
    "            pred_classes = torch.argmax(logits, dim=1)\n",
    "\n",
    "            # Update confusion matrix\n",
    "            for target, pred in zip(targets, pred_classes):\n",
    "                conf_matrix[target, pred] += 1\n",
    "    acc = np.diag(conf_matrix).sum()/conf_matrix.sum()\n",
    "    train_accu.append(acc*100)\n",
    "\n",
    "    conf_matrix = np.zeros((num_classes, num_classes), dtype=np.int32)\n",
    "    with torch.no_grad():\n",
    "        for data, targets in test_loader:\n",
    "            # Make sure data is on the same device as the model\n",
    "            data = data.to(device)\n",
    "            targets = targets.to(device)\n",
    "\n",
    "            # Run forward pass\n",
    "            logits = model(data)\n",
    "\n",
    "            # Compute loss\n",
    "            loss = loss_func(logits, targets)\n",
    "\n",
    "            # Get class predictions\n",
    "            pred_classes = torch.argmax(logits, dim=1)\n",
    "\n",
    "            # Update confusion matrix\n",
    "            for target, pred in zip(targets, pred_classes):\n",
    "                conf_matrix[target, pred] += 1\n",
    "    test_losses.append(loss.item())\n",
    "    acc = np.diag(conf_matrix).sum()/conf_matrix.sum()\n",
    "    test_accu.append(acc*100)\n",
    "\n",
    "    step += 1\n",
    "\n",
    "    print(\"Epoch\",step)"
   ]
  },
  {
   "cell_type": "markdown",
   "metadata": {},
   "source": [
    "### Loss"
   ]
  },
  {
   "cell_type": "code",
   "execution_count": 11,
   "metadata": {},
   "outputs": [
    {
     "data": {
      "image/png": "[encoded data removed]",
      "text/plain": [
       "<Figure size 640x480 with 1 Axes>"
      ]
     },
     "metadata": {},
     "output_type": "display_data"
    }
   ],
   "source": [
    "plt.figure()\n",
    "plt.plot(train_losses, 'r-', label = 'Train')\n",
    "plt.plot(test_losses, 'b-.', label = 'Test')\n",
    "plt.xlabel('Number of Epoch')\n",
    "plt.ylabel('Loss')\n",
    "plt.xticks(range(20))\n",
    "plt.legend()\n",
    "plt.title(\"\")\n",
    "plt.show()"
   ]
  },
  {
   "cell_type": "code",
   "execution_count": 12,
   "metadata": {},
   "outputs": [
    {
     "data": {
      "text/plain": [
       "[0.016741860657930374,\n",
       " 0.8020749092102051,\n",
       " 0.3920707106590271,\n",
       " 0.14399820566177368,\n",
       " 0.050181083381175995,\n",
       " 0.10845915228128433,\n",
       " 0.07408453524112701,\n",
       " 0.3006386160850525,\n",
       " 0.15474587678909302,\n",
       " 0.15497185289859772,\n",
       " 0.34427234530448914,\n",
       " 0.033280421048402786,\n",
       " 0.00146386562846601,\n",
       " 0.03212109953165054,\n",
       " 0.0013037967728450894,\n",
       " 0.01369817741215229,\n",
       " 0.005089083686470985,\n",
       " 0.00044439220800995827,\n",
       " 0.0006397853721864522,\n",
       " 0.00041642208816483617]"
      ]
     },
     "execution_count": 12,
     "metadata": {},
     "output_type": "execute_result"
    }
   ],
   "source": [
    "train_losses"
   ]
  },
  {
   "cell_type": "code",
   "execution_count": 13,
   "metadata": {},
   "outputs": [
    {
     "data": {
      "text/plain": [
       "[0.6831237077713013,\n",
       " 0.11212662607431412,\n",
       " 0.5699355006217957,\n",
       " 0.22482408583164215,\n",
       " 0.10712490975856781,\n",
       " 0.19601617753505707,\n",
       " 0.4101852774620056,\n",
       " 0.5580683946609497,\n",
       " 0.694202184677124,\n",
       " 0.3863018751144409,\n",
       " 0.1957145780324936,\n",
       " 0.14138640463352203,\n",
       " 0.1608850508928299,\n",
       " 0.2618865370750427,\n",
       " 0.32206740975379944,\n",
       " 0.1284293830394745,\n",
       " 0.2105763703584671,\n",
       " 0.15358956158161163,\n",
       " 0.2155897170305252,\n",
       " 0.18919646739959717]"
      ]
     },
     "execution_count": 13,
     "metadata": {},
     "output_type": "execute_result"
    }
   ],
   "source": [
    "test_losses"
   ]
  },
  {
   "cell_type": "markdown",
   "metadata": {},
   "source": [
    "### Accuracy"
   ]
  },
  {
   "cell_type": "code",
   "execution_count": 14,
   "metadata": {},
   "outputs": [
    {
     "data": {
      "image/png": "[encoded data removed]",
      "text/plain": [
       "<Figure size 640x480 with 1 Axes>"
      ]
     },
     "metadata": {},
     "output_type": "display_data"
    }
   ],
   "source": [
    "plt.figure()\n",
    "plt.plot(train_accu, 'r-', label = 'Train')\n",
    "plt.plot(test_accu, 'b-.', label = 'Test')\n",
    "plt.xlabel('Number of Epoch')\n",
    "plt.ylabel('Accuracy')\n",
    "plt.xticks(range(20))\n",
    "plt.legend()\n",
    "plt.show()"
   ]
  },
  {
   "cell_type": "code",
   "execution_count": 15,
   "metadata": {},
   "outputs": [
    {
     "data": {
      "text/plain": [
       "[91.18150684931507,\n",
       " 97.00342465753424,\n",
       " 86.3013698630137,\n",
       " 97.08904109589042,\n",
       " 99.7431506849315,\n",
       " 99.65753424657534,\n",
       " 96.1472602739726,\n",
       " 96.31849315068493,\n",
       " 95.11986301369863,\n",
       " 98.20205479452055,\n",
       " 98.45890410958904,\n",
       " 99.7431506849315,\n",
       " 100.0,\n",
       " 100.0,\n",
       " 98.37328767123287,\n",
       " 100.0,\n",
       " 100.0,\n",
       " 100.0,\n",
       " 100.0,\n",
       " 100.0]"
      ]
     },
     "execution_count": 15,
     "metadata": {},
     "output_type": "execute_result"
    }
   ],
   "source": [
    "train_accu"
   ]
  },
  {
   "cell_type": "code",
   "execution_count": 16,
   "metadata": {},
   "outputs": [
    {
     "data": {
      "text/plain": [
       "[83.56164383561644,\n",
       " 89.38356164383562,\n",
       " 79.7945205479452,\n",
       " 88.6986301369863,\n",
       " 92.12328767123287,\n",
       " 94.52054794520548,\n",
       " 84.93150684931507,\n",
       " 88.01369863013699,\n",
       " 82.53424657534246,\n",
       " 91.0958904109589,\n",
       " 91.0958904109589,\n",
       " 91.43835616438356,\n",
       " 93.4931506849315,\n",
       " 93.4931506849315,\n",
       " 91.78082191780823,\n",
       " 92.46575342465754,\n",
       " 93.4931506849315,\n",
       " 92.46575342465754,\n",
       " 94.52054794520548,\n",
       " 93.83561643835617]"
      ]
     },
     "execution_count": 16,
     "metadata": {},
     "output_type": "execute_result"
    }
   ],
   "source": [
    "test_accu"
   ]
  },
  {
   "cell_type": "code",
   "execution_count": null,
   "metadata": {},
   "outputs": [],
   "source": []
  },
  {
   "cell_type": "code",
   "execution_count": null,
   "metadata": {},
   "outputs": [],
   "source": []
  },
  {
   "cell_type": "code",
   "execution_count": null,
   "metadata": {},
   "outputs": [],
   "source": [
    "transform = T.Compose([\n",
    "    T.Resize([224,224]),\n",
    "    T.ToTensor(),\n",
    "    T.Normalize([0.485, 0.456, 0.406], [0.229, 0.224, 0.225])\n",
    "])\n",
    "\n",
    "test_dataset2 = datasets.ImageFolder(root='../beverage cans/',transform=transform)\n",
    "\n",
    "test_loader2 = DataLoader(test_dataset2, batch_size=batch_size, shuffle=False)"
   ]
  },
  {
   "cell_type": "code",
   "execution_count": 17,
   "metadata": {},
   "outputs": [
    {
     "name": "stderr",
     "output_type": "stream",
     "text": [
      "/Users/ayush/miniconda3/lib/python3.9/site-packages/PIL/Image.py:959: UserWarning: Palette images with Transparency expressed in bytes should be converted to RGBA images\n",
      "  warnings.warn(\n"
     ]
    }
   ],
   "source": [
    "test_losses = []\n",
    "test_accu = []\n",
    "\n",
    "model.eval()\n",
    "\n",
    "conf_matrix = np.zeros((num_classes, num_classes), dtype=np.int32)\n",
    "with torch.no_grad():\n",
    "    for data, targets in test_loader:\n",
    "        # Make sure data is on the same device as the model\n",
    "        data = data.to(device)\n",
    "        targets = targets.to(device)\n",
    "\n",
    "        # Run forward pass\n",
    "        logits = model(data)\n",
    "\n",
    "        # Get class predictions\n",
    "        pred_classes = torch.argmax(logits, dim=1)\n",
    "\n",
    "        # Update confusion matrix\n",
    "        for target, pred in zip(targets, pred_classes):\n",
    "            conf_matrix[target, pred] += 1\n",
    "test_losses.append(loss.item())\n",
    "acc = np.diag(conf_matrix).sum()/conf_matrix.sum()\n",
    "test_accu.append(acc*100)"
   ]
  },
  {
   "cell_type": "code",
   "execution_count": 18,
   "metadata": {},
   "outputs": [
    {
     "data": {
      "text/plain": [
       "[0.18919646739959717]"
      ]
     },
     "execution_count": 18,
     "metadata": {},
     "output_type": "execute_result"
    }
   ],
   "source": [
    "test_losses"
   ]
  },
  {
   "cell_type": "code",
   "execution_count": 19,
   "metadata": {},
   "outputs": [
    {
     "data": {
      "text/plain": [
       "[93.83561643835617]"
      ]
     },
     "execution_count": 19,
     "metadata": {},
     "output_type": "execute_result"
    }
   ],
   "source": [
    "test_accu"
   ]
  }
 ],
 "metadata": {
  "colab": {
   "provenance": []
  },
  "kernelspec": {
   "display_name": "Python 3.9.12",
   "language": "python",
   "name": "python3"
  },
  "language_info": {
   "codemirror_mode": {
    "name": "ipython",
    "version": 3
   },
   "file_extension": ".py",
   "mimetype": "text/x-python",
   "name": "python",
   "nbconvert_exporter": "python",
   "pygments_lexer": "ipython3",
   "version": "3.9.12"
  },
  "vscode": {
   "interpreter": {
    "hash": "993f410c9306d6ef42b306fd54ae6229af7745664c20756624d393163e88c3fb"
   }
  }
 },
 "nbformat": 4,
 "nbformat_minor": 1
}
